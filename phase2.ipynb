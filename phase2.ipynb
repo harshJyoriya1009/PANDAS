{
 "cells": [
  {
   "cell_type": "code",
   "execution_count": 1,
   "metadata": {},
   "outputs": [],
   "source": [
    "import pandas as pd\n",
    "import numpy as np"
   ]
  },
  {
   "cell_type": "markdown",
   "metadata": {},
   "source": [
    "#### Adding columns"
   ]
  },
  {
   "cell_type": "code",
   "execution_count": 55,
   "metadata": {},
   "outputs": [
    {
     "name": "stdout",
     "output_type": "stream",
     "text": [
      "      Name  Age  Salary  Performance\n",
      "0    Harsh   34   10000           56\n",
      "1      Dev   65   15000           87\n",
      "2   Sachin   34   25000           23\n",
      "3  Harshit   23   67000           98\n",
      "4    Rahul   98   45000           54\n",
      "5   Krrish   91   90000           23\n",
      "      Name  Age  Salary  Performance   Bonus\n",
      "0    Harsh   34   10000           56  1000.0\n",
      "1      Dev   65   15000           87  1500.0\n",
      "2   Sachin   34   25000           23  2500.0\n",
      "3  Harshit   23   67000           98  6700.0\n",
      "4    Rahul   98   45000           54  4500.0\n",
      "5   Krrish   91   90000           23  9000.0\n",
      "   Employee ID     Name  Age  Salary  Performance   Bonus\n",
      "0           34    Harsh   34   10000           56  1000.0\n",
      "1           23      Dev   65   15000           87  1500.0\n",
      "2           67   Sachin   34   25000           23  2500.0\n",
      "3           12  Harshit   23   67000           98  6700.0\n",
      "4           89    Rahul   98   45000           54  4500.0\n",
      "5           54   Krrish   91   90000           23  9000.0\n"
     ]
    }
   ],
   "source": [
    "data={\n",
    "    \"Name\":['Harsh','Dev','Sachin','Harshit','Rahul','Krrish'],\n",
    "    \"Age\":[34,65,34,23,98,91],\n",
    "    \"Salary\":[10000,15000,25000,67000,45000,90000],\n",
    "    \"Performance\":[56,87,23,98,54,23]\n",
    "}\n",
    "\n",
    "df=pd.DataFrame(data)\n",
    "print(df)\n",
    "\n",
    "#Adding new column in that Data\n",
    "df[\"Bonus\"]= df['Salary'] * 0.1    # It's come under direct Assisgnment.\n",
    "print(df)\n",
    "\n",
    "\n",
    "#Next methoon is insert() method\n",
    "# df.insert(location, \"Column_name\", some_data)\n",
    "\n",
    "df.insert(0, \"Employee ID\", [34,23,67,12,89,54])\n",
    "print(df)"
   ]
  },
  {
   "cell_type": "markdown",
   "metadata": {},
   "source": [
    "#### Updating values"
   ]
  },
  {
   "cell_type": "code",
   "execution_count": 56,
   "metadata": {},
   "outputs": [
    {
     "name": "stdout",
     "output_type": "stream",
     "text": [
      "      Name  Age  Salary  Performance\n",
      "0    Harsh   34   10000           56\n",
      "1      Dev   65   15000           87\n",
      "2   Sachin   34   25000           23\n",
      "3  Harshit   23   67000           98\n",
      "4    Rahul   98   45000           54\n",
      "5   Krrish   91   90000           23\n",
      "      Name  Age  Salary  Performance\n",
      "0    Harsh   34   10000           56\n",
      "1      Dev   65   15000           87\n",
      "2   Sachin   19   25000           23\n",
      "3  Harshit   23   67000           98\n",
      "4    Rahul   98   45000           54\n",
      "5   Krrish   91   90000           23\n",
      "      Name  Age   Salary  Performance\n",
      "0    Harsh   34  10500.0           56\n",
      "1      Dev   65  15750.0           87\n",
      "2   Sachin   19  26250.0           23\n",
      "3  Harshit   23  70350.0           98\n",
      "4    Rahul   98  47250.0           54\n",
      "5   Krrish   91  94500.0           23\n"
     ]
    }
   ],
   "source": [
    "data={\n",
    "    \"Name\":['Harsh','Dev','Sachin','Harshit','Rahul','Krrish'],\n",
    "    \"Age\":[34,65,34,23,98,91],\n",
    "    \"Salary\":[10000,15000,25000,67000,45000,90000],\n",
    "    \"Performance\":[56,87,23,98,54,23]\n",
    "}\n",
    "\n",
    "df=pd.DataFrame(data)\n",
    "print(df)\n",
    "\n",
    "# .loc[]\n",
    "# .loc[row_index, \"Column Name\"]= new_value\n",
    "\n",
    "df.loc[2, \"Age\"]= 19\n",
    "print(df)\n",
    "\n",
    "# Increase salary by 5%\n",
    "df[\"Salary\"]= df[\"Salary\"]* 1.05\n",
    "print(df)"
   ]
  },
  {
   "cell_type": "markdown",
   "metadata": {},
   "source": [
    "#### Removing Columns"
   ]
  },
  {
   "cell_type": "code",
   "execution_count": 57,
   "metadata": {},
   "outputs": [
    {
     "name": "stdout",
     "output_type": "stream",
     "text": [
      "      Name  Age  Salary  Performance\n",
      "0    Harsh   34   10000           56\n",
      "1      Dev   65   15000           87\n",
      "2   Sachin   34   25000           23\n",
      "3  Harshit   23   67000           98\n",
      "4    Rahul   98   45000           54\n",
      "5   Krrish   91   90000           23\n",
      "\n",
      "Modified Data\n",
      "      Name  Salary  Performance\n",
      "0    Harsh   10000           56\n",
      "1      Dev   15000           87\n",
      "2   Sachin   25000           23\n",
      "3  Harshit   67000           98\n",
      "4    Rahul   45000           54\n",
      "5   Krrish   90000           23\n"
     ]
    }
   ],
   "source": [
    "data={\n",
    "    \"Name\":['Harsh','Dev','Sachin','Harshit','Rahul','Krrish'],\n",
    "    \"Age\":[34,65,34,23,98,91],\n",
    "    \"Salary\":[10000,15000,25000,67000,45000,90000],\n",
    "    \"Performance\":[56,87,23,98,54,23]\n",
    "}\n",
    "\n",
    "df= pd.DataFrame(data)\n",
    "print(df)\n",
    "\n",
    "# df.drop(columns = [Column_name], inplace=True)\n",
    "\n",
    "print(\"\\nModified Data\")\n",
    "df.drop(columns= ['Age'], inplace=True)    # It generally delete entire column\n",
    "print(df)"
   ]
  },
  {
   "cell_type": "markdown",
   "metadata": {},
   "source": [
    "## Handling missing Data"
   ]
  },
  {
   "cell_type": "code",
   "execution_count": 58,
   "metadata": {},
   "outputs": [
    {
     "data": {
      "text/plain": [
       "'\\n\\nNaN (Not a number)\\nNone (for object Data type)\\n\\nisnull()\\nTrue - NaN is missing\\nFalse - value is present\\n'"
      ]
     },
     "execution_count": 58,
     "metadata": {},
     "output_type": "execute_result"
    }
   ],
   "source": [
    "'''\n",
    "\n",
    "NaN (Not a number)\n",
    "None (for object Data type)\n",
    "\n",
    "isnull()\n",
    "True - NaN is missing\n",
    "False - value is present\n",
    "'''"
   ]
  },
  {
   "cell_type": "code",
   "execution_count": 59,
   "metadata": {},
   "outputs": [
    {
     "name": "stdout",
     "output_type": "stream",
     "text": [
      "      Name   Age   Salary  Performance\n",
      "0    Harsh  34.0  10000.0         56.0\n",
      "1     None  65.0  15000.0         87.0\n",
      "2   Sachin  34.0      NaN          NaN\n",
      "3  Harshit  23.0  67000.0         98.0\n",
      "4     None   NaN  45000.0         54.0\n",
      "5   Krrish  91.0      NaN         23.0\n",
      "    Name    Age  Salary  Performance\n",
      "0  False  False   False        False\n",
      "1   True  False   False        False\n",
      "2  False  False    True         True\n",
      "3  False  False   False        False\n",
      "4   True   True   False        False\n",
      "5  False  False    True        False\n",
      "Name           2\n",
      "Age            1\n",
      "Salary         2\n",
      "Performance    1\n",
      "dtype: int64\n"
     ]
    }
   ],
   "source": [
    "data={\n",
    "    \"Name\":['Harsh',None,'Sachin','Harshit',None,'Krrish'],\n",
    "    \"Age\":[34,65,34,23,None,91],\n",
    "    \"Salary\":[10000,15000,None,67000,45000,None],\n",
    "    \"Performance\":[56,87,None,98,54,23]\n",
    "}\n",
    "\n",
    "df= pd.DataFrame(data)\n",
    "print(df)\n",
    "\n",
    "print(df.isnull())\n",
    "print(df.isnull().sum())\n"
   ]
  },
  {
   "cell_type": "markdown",
   "metadata": {},
   "source": [
    "#### Handling missing data"
   ]
  },
  {
   "cell_type": "code",
   "execution_count": 60,
   "metadata": {},
   "outputs": [
    {
     "name": "stdout",
     "output_type": "stream",
     "text": [
      "      Name   Age   Salary  Performance\n",
      "0    Harsh  34.0  10000.0         56.0\n",
      "1     None  65.0  15000.0         87.0\n",
      "2   Sachin  34.0      NaN          NaN\n",
      "3  Harshit  23.0  67000.0         98.0\n",
      "4     None   NaN  45000.0         54.0\n",
      "5   Krrish  91.0      NaN         23.0\n",
      "      Name   Age   Salary  Performance\n",
      "0    Harsh  34.0  10000.0         56.0\n",
      "1     None  65.0  15000.0         87.0\n",
      "2   Sachin  34.0      NaN          NaN\n",
      "3  Harshit  23.0  67000.0         98.0\n",
      "4     None  49.4  45000.0         54.0\n",
      "5   Krrish  91.0      NaN         23.0\n"
     ]
    },
    {
     "name": "stderr",
     "output_type": "stream",
     "text": [
      "C:\\Users\\harsh\\AppData\\Local\\Temp\\ipykernel_15816\\26030217.py:20: FutureWarning: A value is trying to be set on a copy of a DataFrame or Series through chained assignment using an inplace method.\n",
      "The behavior will change in pandas 3.0. This inplace method will never work because the intermediate object on which we are setting values always behaves as a copy.\n",
      "\n",
      "For example, when doing 'df[col].method(value, inplace=True)', try using 'df.method({col: value}, inplace=True)' or df[col] = df[col].method(value) instead, to perform the operation inplace on the original object.\n",
      "\n",
      "\n",
      "  df['Age'].fillna(df['Age'].mean(), inplace=True)\n"
     ]
    }
   ],
   "source": [
    "data={\n",
    "    \"Name\":['Harsh',None,'Sachin','Harshit',None,'Krrish'],\n",
    "    \"Age\":[34,65,34,23,None,91],\n",
    "    \"Salary\":[10000,15000,None,67000,45000,None],\n",
    "    \"Performance\":[56,87,None,98,54,23]\n",
    "}\n",
    "\n",
    "df= pd.DataFrame(data)\n",
    "print(df)\n",
    "\n",
    "# df.dropna(axis=0, inplace=True)   #axis=0 means deleting rows and axis= 1 means deleting columns\n",
    "# df.dropna(inplace=True)\n",
    "# print(df)\n",
    "\n",
    "# if we have fill any value instead of  deleting that row than we used fillna method\n",
    "# df.fillna(0, inplace=True)\n",
    "# df.fillna(0, inplace=True)\n",
    "# print(df)\n",
    "\n",
    "df['Age'].fillna(df['Age'].mean(), inplace=True)\n",
    "print(df)"
   ]
  },
  {
   "cell_type": "markdown",
   "metadata": {},
   "source": [
    "#### Adding using Data in missing Data"
   ]
  },
  {
   "cell_type": "code",
   "execution_count": 61,
   "metadata": {},
   "outputs": [
    {
     "name": "stdout",
     "output_type": "stream",
     "text": [
      "      Name   Age   Salary  Performance\n",
      "0    Harsh  34.0  10000.0         56.0\n",
      "1     None  65.0  15000.0         87.0\n",
      "2   Sachin  34.0      NaN          NaN\n",
      "3  Harshit  23.0  67000.0         98.0\n",
      "4     None   NaN  45000.0         54.0\n",
      "5   Krrish  91.0      NaN         23.0\n",
      "      Name   Age   Salary  Performance\n",
      "0    Harsh  34.0  10000.0         56.0\n",
      "1     None  65.0  15000.0         87.0\n",
      "2   Sachin  34.0  41000.0         92.5\n",
      "3  Harshit  23.0  67000.0         98.0\n",
      "4     None  57.0  45000.0         54.0\n",
      "5   Krrish  91.0  45000.0         23.0\n"
     ]
    },
    {
     "name": "stderr",
     "output_type": "stream",
     "text": [
      "C:\\Users\\harsh\\AppData\\Local\\Temp\\ipykernel_15816\\3373068834.py:11: FutureWarning: DataFrame.interpolate with object dtype is deprecated and will raise in a future version. Call obj.infer_objects(copy=False) before interpolating instead.\n",
      "  df.interpolate(method=\"linear\", axis=0, inplace=True)\n"
     ]
    }
   ],
   "source": [
    "data={\n",
    "    \"Name\":['Harsh',None,'Sachin','Harshit',None,'Krrish'],\n",
    "    \"Age\":[34,65,34,23,None,91],\n",
    "    \"Salary\":[10000,15000,None,67000,45000,None],\n",
    "    \"Performance\":[56,87,None,98,54,23]\n",
    "}\n",
    "\n",
    "df= pd.DataFrame(data)\n",
    "print(df)\n",
    "\n",
    "df.interpolate(method=\"linear\", axis=0, inplace=True)\n",
    "print(df)"
   ]
  },
  {
   "cell_type": "code",
   "execution_count": 62,
   "metadata": {},
   "outputs": [
    {
     "name": "stdout",
     "output_type": "stream",
     "text": [
      "Before interpolate\n",
      "   Time  Values\n",
      "0     1    10.0\n",
      "1     2     NaN\n",
      "2     3    30.0\n",
      "3     4     NaN\n",
      "4     5    50.0\n",
      "\n",
      " After interpolate\n",
      "   Time  Values\n",
      "0     1    10.0\n",
      "1     2    20.0\n",
      "2     3    30.0\n",
      "3     4    40.0\n",
      "4     5    50.0\n"
     ]
    }
   ],
   "source": [
    "data={\n",
    "    \"Time\":[1,2,3,4,5],\n",
    "    \"Values\":[10,None,30,None,50]\n",
    "    }\n",
    "\n",
    "df= pd.DataFrame(data)\n",
    "print(\"Before interpolate\")\n",
    "print(df)\n",
    "\n",
    "print(\"\\n After interpolate\")\n",
    "df[\"Values\"]= df[\"Values\"].interpolate(method=\"linear\")\n",
    "print(df)"
   ]
  },
  {
   "cell_type": "markdown",
   "metadata": {},
   "source": [
    "## Sorting Data"
   ]
  },
  {
   "cell_type": "code",
   "execution_count": 64,
   "metadata": {},
   "outputs": [
    {
     "name": "stdout",
     "output_type": "stream",
     "text": [
      "Before Age column sorting\n",
      "     Name  Age  Salary\n",
      "0   Harsh   23   10000\n",
      "1     Dev   54   12000\n",
      "2  Sachin   22   15000\n",
      "\n",
      " After Age column sorting\n",
      "     Name  Age  Salary\n",
      "2  Sachin   22   15000\n",
      "0   Harsh   23   10000\n",
      "1     Dev   54   12000\n"
     ]
    }
   ],
   "source": [
    "data={\n",
    "    \"Name\": ['Harsh','Dev','Sachin'],\n",
    "    \"Age\":[23,54,22],\n",
    "    \"Salary\":[10000,12000,15000]\n",
    "}\n",
    "\n",
    "df=pd.DataFrame(data)\n",
    "print(\"Before Age column sorting\")\n",
    "print(df)\n",
    "\n",
    "df.sort_values(by=\"Age\", ascending=True, inplace=True)\n",
    "print(\"\\n After Age column sorting\")\n",
    "print(df)"
   ]
  },
  {
   "cell_type": "markdown",
   "metadata": {},
   "source": [
    "### How to make Groupoid"
   ]
  },
  {
   "cell_type": "code",
   "execution_count": 70,
   "metadata": {},
   "outputs": [
    {
     "name": "stdout",
     "output_type": "stream",
     "text": [
      "Age\n",
      "22    15000\n",
      "23    35000\n",
      "54    32000\n",
      "Name: Salary, dtype: int64\n",
      "Age  Name   \n",
      "22   Sachin     15000\n",
      "23   Harsh      10000\n",
      "     Rahul      25000\n",
      "54   Dev        12000\n",
      "     Neelesh    20000\n",
      "Name: Salary, dtype: int64\n"
     ]
    }
   ],
   "source": [
    "data={\n",
    "    \"Name\": ['Harsh','Dev','Sachin','Rahul','Neelesh'],\n",
    "    \"Age\":[23,54,22,23,54],\n",
    "    \"Salary\":[10000,12000,15000,25000,20000]\n",
    "}\n",
    "df=pd.DataFrame(data)\n",
    "\n",
    "grouped= df.groupby('Age')[\"Salary\"].sum()\n",
    "print(grouped)\n",
    "\n",
    "#For using many columns\n",
    "multi_group= df.groupby(['Age','Name'])[\"Salary\"].sum()\n",
    "print(multi_group)"
   ]
  },
  {
   "cell_type": "markdown",
   "metadata": {},
   "source": [
    "### Merging & Joining"
   ]
  },
  {
   "cell_type": "code",
   "execution_count": 14,
   "metadata": {},
   "outputs": [
    {
     "name": "stdout",
     "output_type": "stream",
     "text": [
      "Inner join\n",
      "   Costomer_ID   Name  Order_Amount\n",
      "0            1  Harsh           250\n",
      "1            2   Atif           300\n",
      "\n",
      "Outer join\n",
      "   Costomer_ID     Name  Order_Amount\n",
      "0            1    Harsh         250.0\n",
      "1            2     Atif         300.0\n",
      "2            3  Purohit           NaN\n",
      "3            6      NaN         450.0\n",
      "\n",
      "Left join\n",
      "   Costomer_ID     Name  Order_Amount\n",
      "0            1    Harsh         250.0\n",
      "1            2     Atif         300.0\n",
      "2            3  Purohit           NaN\n",
      "\n",
      "Right join\n",
      "   Costomer_ID   Name  Order_Amount\n",
      "0            1  Harsh           250\n",
      "1            2   Atif           300\n",
      "2            6    NaN           450\n"
     ]
    }
   ],
   "source": [
    "# pd.merge(df1, df2, on=\"Column_name\", how=\"type of join\")\n",
    "\n",
    "#Customer dataframe\n",
    "df_costumers= pd.DataFrame({\n",
    "    'Costomer_ID': [1,2,3],\n",
    "    'Name': ['Harsh', 'Atif', 'Purohit']\n",
    "})\n",
    "\n",
    "df_orders= pd.DataFrame({\n",
    "    'Costomer_ID':[1,2,6],\n",
    "    'Order_Amount':[250,300,450]\n",
    "})\n",
    "\n",
    "# Inner merging\n",
    "df_merged= pd.merge(df_costumers, df_orders, on=\"Costomer_ID\", how=\"inner\")\n",
    "\n",
    "print(\"Inner join\")\n",
    "print(df_merged)\n",
    "\n",
    "#Outer joining\n",
    "df_merged= pd.merge(df_costumers, df_orders, on=\"Costomer_ID\", how=\"outer\")\n",
    "\n",
    "print(\"\\nOuter join\")\n",
    "print(df_merged)\n",
    "\n",
    "#Left joining\n",
    "df_merged= pd.merge(df_costumers, df_orders, on=\"Costomer_ID\", how=\"left\")\n",
    "\n",
    "print(\"\\nLeft join\")\n",
    "print(df_merged)\n",
    "\n",
    "#Right joining\n",
    "df_merged= pd.merge(df_costumers, df_orders, on=\"Costomer_ID\", how=\"right\")\n",
    "\n",
    "print(\"\\nRight  join\")\n",
    "print(df_merged)\n",
    "\n"
   ]
  },
  {
   "cell_type": "markdown",
   "metadata": {},
   "source": [
    "#### Concentenation"
   ]
  },
  {
   "cell_type": "code",
   "execution_count": null,
   "metadata": {},
   "outputs": [],
   "source": [
    "'''\n",
    "vertically  (row-wise)\n",
    "horizontally (column-wise)\n",
    "\n",
    "pd.concate([df1, df2], axis=0, ignore_inder=True)\n",
    "\n",
    "axis=0 means combine row wise\n",
    "'''"
   ]
  },
  {
   "cell_type": "code",
   "execution_count": 18,
   "metadata": {},
   "outputs": [
    {
     "name": "stdout",
     "output_type": "stream",
     "text": [
      "Vertically concentation\n",
      "   Costomer_ID     Name\n",
      "0            1    Harsh\n",
      "1            2     Atif\n",
      "2            3  Purohit\n",
      "3            4   Sachin\n",
      "4            5    Rahul\n",
      "5            6  Neelesh\n",
      "\n",
      "Horizontally concentation\n",
      "   0        1  2        3\n",
      "0  1    Harsh  4   Sachin\n",
      "1  2     Atif  5    Rahul\n",
      "2  3  Purohit  6  Neelesh\n"
     ]
    }
   ],
   "source": [
    "df_region1= pd.DataFrame({\n",
    "    'Costomer_ID': [1,2,3],\n",
    "    'Name': ['Harsh', 'Atif', 'Purohit']\n",
    "})\n",
    "\n",
    "df_region2= pd.DataFrame({\n",
    "    'Costomer_ID':[4,5,6],\n",
    "    'Name':['Sachin','Rahul','Neelesh']\n",
    "})\n",
    "\n",
    "\n",
    "#Vertically concentation\n",
    "df_concate= pd.concat([df_region1, df_region2], axis=0, ignore_index=True)\n",
    "print('Vertically concentation')\n",
    "print(df_concate)\n",
    "\n",
    "#Horozontally concentation\n",
    "df_concate= pd.concat([df_region1, df_region2], axis=1, ignore_index=True)\n",
    "print('\\nHorizontally concentation')\n",
    "print(df_concate)\n"
   ]
  }
 ],
 "metadata": {
  "kernelspec": {
   "display_name": "venv",
   "language": "python",
   "name": "python3"
  },
  "language_info": {
   "codemirror_mode": {
    "name": "ipython",
    "version": 3
   },
   "file_extension": ".py",
   "mimetype": "text/x-python",
   "name": "python",
   "nbconvert_exporter": "python",
   "pygments_lexer": "ipython3",
   "version": "3.13.1"
  }
 },
 "nbformat": 4,
 "nbformat_minor": 2
}
