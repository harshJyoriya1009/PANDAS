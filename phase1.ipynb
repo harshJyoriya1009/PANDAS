{
 "cells": [
  {
   "cell_type": "code",
   "execution_count": 18,
   "metadata": {},
   "outputs": [],
   "source": [
    "import pandas as pd\n",
    "import numpy as np"
   ]
  },
  {
   "cell_type": "markdown",
   "metadata": {},
   "source": [
    "## How to read File of different format"
   ]
  },
  {
   "cell_type": "markdown",
   "metadata": {},
   "source": [
    "#### Read data from CSV file"
   ]
  },
  {
   "cell_type": "code",
   "execution_count": 19,
   "metadata": {},
   "outputs": [
    {
     "name": "stdout",
     "output_type": "stream",
     "text": [
      "      Name  Age         City\n",
      "0    Alice   25     New York\n",
      "1      Bob   30  Los Angeles\n",
      "2  Charlie   22      Chicago\n",
      "3    David   28      Houston\n",
      "4    Emily   35      Phoenix\n"
     ]
    }
   ],
   "source": [
    "df= pd.read_csv(\"data.csv\")\n",
    "print(df)"
   ]
  },
  {
   "cell_type": "markdown",
   "metadata": {},
   "source": [
    "#### Read data from excel file"
   ]
  },
  {
   "cell_type": "code",
   "execution_count": null,
   "metadata": {},
   "outputs": [],
   "source": [
    "df= pd.read_excel(\"\")\n",
    "print(df)"
   ]
  },
  {
   "cell_type": "markdown",
   "metadata": {},
   "source": [
    "#### Read data from JSON file"
   ]
  },
  {
   "cell_type": "code",
   "execution_count": null,
   "metadata": {},
   "outputs": [],
   "source": [
    "df= pd.read_json(\"\")\n",
    "print(df)"
   ]
  },
  {
   "cell_type": "markdown",
   "metadata": {},
   "source": [
    "## How to save file in different format"
   ]
  },
  {
   "cell_type": "code",
   "execution_count": 17,
   "metadata": {},
   "outputs": [
    {
     "name": "stdout",
     "output_type": "stream",
     "text": [
      "     Name Age      City\n",
      "0   Harsh  24    Jhansi\n",
      "1    Atif  45   Mahobha\n",
      "2  Prohit  89    Lahore\n",
      "3  Shubhi  12  Allahbad\n",
      "4    Manu  90  Knowhere\n"
     ]
    }
   ],
   "source": [
    "data={\n",
    "    \"Name\": ['Harsh', 'Atif','Prohit','Shubhi','Manu'],\n",
    "    \"Age\":['24','45','89','12','90'],\n",
    "    \"City\":[\"Jhansi\",\"Mahobha\",\"Lahore\",\"Allahbad\",\"Knowhere\"]\n",
    "}\n",
    "\n",
    "df= pd.DataFrame(data)\n",
    "print(df)\n",
    "\n",
    "\n",
    "# df.to_csv(\"output.csv\", index=False)\n",
    "# df.to_excel(\"output.xlsx\", index=False)\n",
    "df.to_json(\"output.json\", index=False)"
   ]
  },
  {
   "cell_type": "markdown",
   "metadata": {},
   "source": [
    "### Find out shape of your File"
   ]
  },
  {
   "cell_type": "code",
   "execution_count": 13,
   "metadata": {},
   "outputs": [
    {
     "name": "stdout",
     "output_type": "stream",
     "text": [
      "Shape: (6, 4)\n",
      "Column name: Index(['Name', 'Age', 'Salary', 'performance'], dtype='object')\n"
     ]
    }
   ],
   "source": [
    "'''\n",
    "1- How big is your dataset\n",
    "2- What are the names of columns\n",
    "\n",
    "shapes and columns\n",
    "'''\n",
    "\n",
    "data={\n",
    "    \"Name\":['Harsh','Dev','Sachin','Harshit','Rahul','Krrish'],\n",
    "    \"Age\":[34,65,34,23,98,91],\n",
    "    \"Salary\":[10000,15000,25000,67000,45000,90000],\n",
    "    \"performance\":[56,87,23,98,54,23]\n",
    "}\n",
    "\n",
    "df=pd.DataFrame(data)\n",
    "print(f'Shape: {df.shape}')\n",
    "print(f'Column name: {df.columns}')"
   ]
  },
  {
   "cell_type": "markdown",
   "metadata": {},
   "source": [
    "### Display of Rows of data"
   ]
  },
  {
   "cell_type": "code",
   "execution_count": 9,
   "metadata": {},
   "outputs": [
    {
     "name": "stdout",
     "output_type": "stream",
     "text": [
      "Display 10 rows of first\n",
      "     Name  Age      City\n",
      "0   Harsh   24    Jhansi\n",
      "1    Atif   45   Mahobha\n",
      "2  Prohit   89    Lahore\n",
      "3  Shubhi   12  Allahbad\n",
      "4    Manu   90  Knowhere\n",
      "Display 10 rows of last\n",
      "    Name  Age       City\n",
      "5  Aanya   31       Pune\n",
      "6  Rohan   27      Delhi\n",
      "7   Zoya   36     Mumbai\n",
      "8  Imran   52  Hyderabad\n",
      "9  Kiara   19  Bangalore\n"
     ]
    }
   ],
   "source": [
    "df= pd.read_json(\"sample_data.json\")\n",
    "\n",
    "print(\"Display 10 rows of first\")\n",
    "print(df.head())\n",
    "\n",
    "print(\"Display 10 rows of last\")\n",
    "print(df.tail())"
   ]
  },
  {
   "cell_type": "markdown",
   "metadata": {},
   "source": [
    "#### Get info about Data"
   ]
  },
  {
   "cell_type": "code",
   "execution_count": 21,
   "metadata": {},
   "outputs": [
    {
     "name": "stdout",
     "output_type": "stream",
     "text": [
      "Displaying the info of Data set:\n",
      "<class 'pandas.core.frame.DataFrame'>\n",
      "RangeIndex: 10 entries, 0 to 9\n",
      "Data columns (total 3 columns):\n",
      " #   Column  Non-Null Count  Dtype \n",
      "---  ------  --------------  ----- \n",
      " 0   Name    10 non-null     object\n",
      " 1   Age     10 non-null     int64 \n",
      " 2   City    10 non-null     object\n",
      "dtypes: int64(1), object(2)\n",
      "memory usage: 372.0+ bytes\n",
      "None\n"
     ]
    }
   ],
   "source": [
    "df= pd.read_json(\"sample_data.json\")\n",
    "\n",
    "print(\"Displaying the info of Data set:\")\n",
    "print(df.info())"
   ]
  },
  {
   "cell_type": "markdown",
   "metadata": {},
   "source": [
    "#### Descriptive Statictics"
   ]
  },
  {
   "cell_type": "code",
   "execution_count": 22,
   "metadata": {},
   "outputs": [
    {
     "name": "stdout",
     "output_type": "stream",
     "text": [
      "Sample Dataframe\n",
      "      Name  Age  Salary  performance\n",
      "0    Harsh   34   10000           56\n",
      "1      Dev   65   15000           87\n",
      "2   Sachin   34   25000           23\n",
      "3  Harshit   23   67000           98\n",
      "4    Rahul   98   45000           54\n",
      "5   Krrish   91   90000           23\n",
      "\n",
      "Descriptive Statictics\n",
      "             Age        Salary  performance\n",
      "count   6.000000      6.000000     6.000000\n",
      "mean   57.500000  42000.000000    56.833333\n",
      "std    31.979681  31559.467676    31.314001\n",
      "min    23.000000  10000.000000    23.000000\n",
      "25%    34.000000  17500.000000    30.750000\n",
      "50%    49.500000  35000.000000    55.000000\n",
      "75%    84.500000  61500.000000    79.250000\n",
      "max    98.000000  90000.000000    98.000000\n"
     ]
    }
   ],
   "source": [
    "data={\n",
    "    \"Name\":['Harsh','Dev','Sachin','Harshit','Rahul','Krrish'],\n",
    "    \"Age\":[34,65,34,23,98,91],\n",
    "    \"Salary\":[10000,15000,25000,67000,45000,90000],\n",
    "    \"performance\":[56,87,23,98,54,23]\n",
    "}\n",
    "\n",
    "df=pd.DataFrame(data)\n",
    "print(\"Sample Dataframe\")\n",
    "print(df)\n",
    "\n",
    "print()\n",
    "\n",
    "print(\"Descriptive Statictics\")\n",
    "print(df.describe())"
   ]
  }
 ],
 "metadata": {
  "kernelspec": {
   "display_name": "venv",
   "language": "python",
   "name": "python3"
  },
  "language_info": {
   "codemirror_mode": {
    "name": "ipython",
    "version": 3
   },
   "file_extension": ".py",
   "mimetype": "text/x-python",
   "name": "python",
   "nbconvert_exporter": "python",
   "pygments_lexer": "ipython3",
   "version": "3.13.1"
  }
 },
 "nbformat": 4,
 "nbformat_minor": 2
}
